{
 "cells": [
  {
   "cell_type": "markdown",
   "metadata": {},
   "source": [
    "# Programming Assignment"
   ]
  },
  {
   "cell_type": "markdown",
   "metadata": {},
   "source": [
    "## Model validation on the Iris dataset"
   ]
  },
  {
   "cell_type": "markdown",
   "metadata": {},
   "source": [
    "### Instructions\n",
    "\n",
    "In this notebook, you will build, compile and fit a neural network model to the Iris dataset. You will also implement validation, regularisation and callbacks to improve your model.\n",
    "\n",
    "Some code cells are provided you in the notebook. You should avoid editing provided code, and make sure to execute the cells in order to avoid unexpected errors. Some cells begin with the line: \n",
    "\n",
    "`#### GRADED CELL ####`\n",
    "\n",
    "Don't move or edit this first line - this is what the automatic grader looks for to recognise graded cells. These cells require you to write your own code to complete them, and are automatically graded when you submit the notebook. Don't edit the function name or signature provided in these cells, otherwise the automatic grader might not function properly. Inside these graded cells, you can use any functions or classes that are imported below, but make sure you don't use any variables that are outside the scope of the function.\n",
    "\n",
    "### How to submit\n",
    "\n",
    "Complete all the tasks you are asked for in the worksheet. When you have finished and are happy with your code, press the **Submit Assignment** button at the top of this notebook.\n",
    "\n",
    "### Let's get started!\n",
    "\n",
    "We'll start running some imports, and loading the dataset. Do not edit the existing imports in the following cell. If you would like to make further Tensorflow imports, you should add them here."
   ]
  },
  {
   "cell_type": "code",
   "execution_count": 53,
   "metadata": {},
   "outputs": [],
   "source": [
    "#### PACKAGE IMPORTS ####\n",
    "\n",
    "# Run this cell first to import all required packages. Do not make any imports elsewhere in the notebook\n",
    "from numpy.random import seed\n",
    "seed(8)\n",
    "import tensorflow as tf\n",
    "import numpy as np\n",
    "import matplotlib.pyplot as plt\n",
    "from sklearn import datasets, model_selection \n",
    "%matplotlib inline\n",
    "\n",
    "# If you would like to make further imports from tensorflow, add them here\n",
    "from tensorflow import keras\n",
    "from sklearn.model_selection import train_test_split\n",
    "from tensorflow.keras.models import Sequential\n",
    "from tensorflow.keras.layers import Dense\n",
    "from tensorflow.keras import regularizers\n",
    "\n",
    "\n",
    "\n"
   ]
  },
  {
   "cell_type": "markdown",
   "metadata": {},
   "source": [
    "<tr>\n",
    "<td><img src=\"data/iris_setosa.jpg\" alt=\"Drawing\" style=\"height: 270px;\"/></td>\n",
    "<td><img src=\"data/iris_versicolor.jpg\" alt=\"Drawing\" style=\"height: 270px;\"/></td>\n",
    "<td><img src=\"data/iris_virginica.jpg\" alt=\"Drawing\" style=\"height: 270px;\"/></td>\n",
    "</tr>"
   ]
  },
  {
   "cell_type": "markdown",
   "metadata": {},
   "source": [
    "#### The Iris dataset\n",
    "\n",
    "In this assignment, you will use the [Iris dataset](https://scikit-learn.org/stable/auto_examples/datasets/plot_iris_dataset.html). It consists of 50 samples from each of three species of Iris (Iris setosa, Iris virginica and Iris versicolor). Four features were measured from each sample: the length and the width of the sepals and petals, in centimeters. For a reference, see the following papers:\n",
    "\n",
    "- R. A. Fisher. \"The use of multiple measurements in taxonomic problems\". Annals of Eugenics. 7 (2): 179–188, 1936.\n",
    "\n",
    "Your goal is to construct a neural network that classifies each sample into the correct class, as well as applying validation and regularisation techniques."
   ]
  },
  {
   "cell_type": "markdown",
   "metadata": {},
   "source": [
    "#### Load and preprocess the data\n",
    "\n",
    "First read in the Iris dataset using `datasets.load_iris()`, and split the dataset into training and test sets."
   ]
  },
  {
   "cell_type": "code",
   "execution_count": 54,
   "metadata": {},
   "outputs": [],
   "source": [
    "#### GRADED CELL ####\n",
    "\n",
    "# Complete the following function. \n",
    "# Make sure to not change the function name or arguments.\n",
    "\n",
    "def read_in_and_split_data(iris_data):\n",
    "    \"\"\"\n",
    "    This function takes the Iris dataset as loaded by sklearn.datasets.load_iris(), and then \n",
    "    splits so that the training set includes 90% of the full dataset, with the test set \n",
    "    making up the remaining 10%.\n",
    "    Your function should return a tuple (train_data, test_data, train_targets, test_targets) \n",
    "    of appropriately split training and test data and targets.\n",
    "    \n",
    "    If you would like to import any further packages to aid you in this task, please do so in the \n",
    "    Package Imports cell above.\n",
    "    \"\"\"\n",
    "    i_data = datasets.load_iris()\n",
    "\n",
    "    data = i_data.data\n",
    "    targets = i_data.target\n",
    "\n",
    "    (train_data, test_data, train_targets, test_targets) = train_test_split(\n",
    "        data, targets, test_size=0.1, random_state=42, stratify=targets\n",
    "    )\n",
    "    return (train_data, test_data, train_targets, test_targets)\n",
    "    \n",
    "    "
   ]
  },
  {
   "cell_type": "code",
   "execution_count": 55,
   "metadata": {},
   "outputs": [],
   "source": [
    "# Run your function to generate the test and training data.\n",
    "\n",
    "iris_data = datasets.load_iris()\n",
    "train_data, test_data, train_targets, test_targets = read_in_and_split_data(iris_data)\n"
   ]
  },
  {
   "cell_type": "markdown",
   "metadata": {},
   "source": [
    "We will now convert the training and test targets using a one hot encoder."
   ]
  },
  {
   "cell_type": "code",
   "execution_count": 56,
   "metadata": {},
   "outputs": [],
   "source": [
    "# Convert targets to a one-hot encoding\n",
    "\n",
    "train_targets = tf.keras.utils.to_categorical(np.array(train_targets))\n",
    "test_targets = tf.keras.utils.to_categorical(np.array(test_targets))"
   ]
  },
  {
   "cell_type": "markdown",
   "metadata": {},
   "source": [
    "#### Build the neural network model\n"
   ]
  },
  {
   "cell_type": "markdown",
   "metadata": {},
   "source": [
    "You can now construct a model to fit to the data. Using the Sequential API, build your model according to the following specifications:\n",
    "\n",
    "* The model should use the `input_shape` in the function argument to set the input size in the first layer.\n",
    "* The first layer should be a dense layer with 64 units.\n",
    "* The weights of the first layer should be initialised with the He uniform initializer.\n",
    "* The biases of the first layer should be all initially equal to one.\n",
    "* There should then be a further four dense layers, each with 128 units.\n",
    "* This should be followed with four dense layers, each with 64 units.\n",
    "* All of these Dense layers should use the ReLU activation function.\n",
    "* The output Dense layer should have 3 units and the softmax activation function.\n",
    "\n",
    "In total, the network should have 10 layers."
   ]
  },
  {
   "cell_type": "code",
   "execution_count": 57,
   "metadata": {},
   "outputs": [],
   "source": [
    "#### GRADED CELL ####\n",
    "\n",
    "# Complete the following function. \n",
    "# Make sure to not change the function name or arguments.\n",
    "from tensorflow.keras import initializers\n",
    "\n",
    "def get_model(input_shape):\n",
    "    \"\"\"\n",
    "    This function should build a Sequential model according to the above specification. Ensure the \n",
    "    weights are initialised by providing the input_shape argument in the first layer, given by the\n",
    "    function argument.\n",
    "    Your function should return the model.\n",
    "    \"\"\"\n",
    "    model = keras.Sequential([\n",
    "        # First Dense layer\n",
    "        Dense(64, activation='relu', input_shape=input_shape,\n",
    "                     kernel_initializer='he_uniform',\n",
    "                     bias_initializer=tf.keras.initializers.Constant(1.0)),\n",
    "\n",
    "        # Four Dense layers with 128 units and ReLU activation\n",
    "        Dense(128, activation='relu'),\n",
    "        Dense(128, activation='relu'),\n",
    "        Dense(128, activation='relu'),\n",
    "        Dense(128, activation='relu'),\n",
    "\n",
    "        # Four Dense layers with 64 units and ReLU activation\n",
    "        Dense(64, activation='relu'),\n",
    "        Dense(64, activation='relu'),\n",
    "        Dense(64, activation='relu'),\n",
    "        Dense(64, activation='relu'),\n",
    "\n",
    "        # Output Dense layer with 3 units and softmax activation\n",
    "        Dense(3, activation='softmax')\n",
    "    ])\n",
    "    return model\n",
    "    \n",
    "    "
   ]
  },
  {
   "cell_type": "code",
   "execution_count": 58,
   "metadata": {},
   "outputs": [],
   "source": [
    "# Run your function to get the model\n",
    "\n",
    "model = get_model(train_data[0].shape)"
   ]
  },
  {
   "cell_type": "markdown",
   "metadata": {},
   "source": [
    "#### Compile the model\n",
    "\n",
    "You should now compile the model using the `compile` method. Remember that you need to specify an optimizer, a loss function and a metric to judge the performance of your model."
   ]
  },
  {
   "cell_type": "code",
   "execution_count": 59,
   "metadata": {},
   "outputs": [],
   "source": [
    "#### GRADED CELL ####\n",
    "\n",
    "# Complete the following function. \n",
    "# Make sure to not change the function name or arguments.\n",
    "\n",
    "def compile_model(model):\n",
    "    \"\"\"\n",
    "    This function takes in the model returned from your get_model function, and compiles it with an optimiser,\n",
    "    loss function and metric.\n",
    "    Compile the model using the Adam optimiser (with learning rate set to 0.0001), \n",
    "    the categorical crossentropy loss function and accuracy as the only metric. \n",
    "    Your function doesn't need to return anything; the model will be compiled in-place.\n",
    "    \"\"\"\n",
    "    optimizer = tf.keras.optimizers.Adam(learning_rate=0.0001)\n",
    "    model.compile(optimizer=optimizer,\n",
    "                  loss='categorical_crossentropy',\n",
    "                  metrics=['accuracy'])\n",
    "    \n",
    "    "
   ]
  },
  {
   "cell_type": "code",
   "execution_count": 60,
   "metadata": {},
   "outputs": [],
   "source": [
    "# Run your function to compile the model\n",
    "\n",
    "compile_model(model)"
   ]
  },
  {
   "cell_type": "markdown",
   "metadata": {},
   "source": [
    "#### Fit the model to the training data\n",
    "\n",
    "Now you should train the model on the Iris dataset, using the model's `fit` method. \n",
    "* Run the training for a fixed number of epochs, given by the function's `epochs` argument.\n",
    "* Return the training history to be used for plotting the learning curves.\n",
    "* Set the batch size to 40.\n",
    "* Set the validation set to be 15% of the training set."
   ]
  },
  {
   "cell_type": "code",
   "execution_count": 61,
   "metadata": {},
   "outputs": [],
   "source": [
    "#### GRADED CELL ####\n",
    "\n",
    "# Complete the following function. \n",
    "# Make sure to not change the function name or arguments.\n",
    "\n",
    "def train_model(model, train_data, train_targets, epochs):\n",
    "    \"\"\"\n",
    "    This function should train the model for the given number of epochs on the \n",
    "    train_data and train_targets. \n",
    "    Your function should return the training history, as returned by model.fit.\n",
    "    \"\"\"\n",
    "    #history = model.fit(train_data, train_targets, epochs=epochs)\n",
    "    #return history\n",
    "    history = model.fit(\n",
    "        train_data,\n",
    "        train_targets,\n",
    "        epochs=epochs,\n",
    "        batch_size=40,\n",
    "        validation_split=0.15,  # 15% of the training data for validation\n",
    "        verbose=0 # Set to 1 or 2 for progress bar during training\n",
    "    )\n",
    "    return history\n",
    "    \n",
    "    "
   ]
  },
  {
   "cell_type": "markdown",
   "metadata": {},
   "source": [
    "Run the following cell to run the training for 800 epochs."
   ]
  },
  {
   "cell_type": "code",
   "execution_count": 62,
   "metadata": {},
   "outputs": [],
   "source": [
    "# Run your function to train the model\n",
    "\n",
    "history = train_model(model, train_data, train_targets, epochs=800)"
   ]
  },
  {
   "cell_type": "markdown",
   "metadata": {},
   "source": [
    "#### Plot the learning curves\n",
    "\n",
    "We will now plot two graphs:\n",
    "* Epoch vs accuracy\n",
    "* Epoch vs loss\n"
   ]
  },
  {
   "cell_type": "code",
   "execution_count": 63,
   "metadata": {},
   "outputs": [
    {
     "data": {
      "image/png": "[encoded data removed]",
      "text/plain": [
       "<Figure size 432x288 with 1 Axes>"
      ]
     },
     "metadata": {
      "needs_background": "light"
     },
     "output_type": "display_data"
    }
   ],
   "source": [
    "# Run this cell to plot the epoch vs accuracy graph\n",
    "\n",
    "try:\n",
    "    plt.plot(history.history['accuracy'])\n",
    "    plt.plot(history.history['val_accuracy'])\n",
    "except KeyError:\n",
    "    plt.plot(history.history['acc'])\n",
    "    plt.plot(history.history['val_acc'])\n",
    "plt.title('Accuracy vs. epochs')\n",
    "plt.ylabel('Loss')\n",
    "plt.xlabel('Epoch')\n",
    "plt.legend(['Training', 'Validation'], loc='lower right')\n",
    "plt.show() "
   ]
  },
  {
   "cell_type": "code",
   "execution_count": 64,
   "metadata": {},
   "outputs": [
    {
     "data": {
      "image/png": "[encoded data removed]",
      "text/plain": [
       "<Figure size 432x288 with 1 Axes>"
      ]
     },
     "metadata": {
      "needs_background": "light"
     },
     "output_type": "display_data"
    }
   ],
   "source": [
    "#Run this cell to plot the epoch vs loss graph\n",
    "plt.plot(history.history['loss'])\n",
    "plt.plot(history.history['val_loss'])\n",
    "plt.title('Loss vs. epochs')\n",
    "plt.ylabel('Loss')\n",
    "plt.xlabel('Epoch')\n",
    "plt.legend(['Training', 'Validation'], loc='upper right')\n",
    "plt.show() "
   ]
  },
  {
   "cell_type": "markdown",
   "metadata": {},
   "source": [
    "Oh no! We have overfit our dataset. You should now try to now try to mitigate this overfitting."
   ]
  },
  {
   "cell_type": "markdown",
   "metadata": {},
   "source": [
    "#### Reducing overfitting in the model"
   ]
  },
  {
   "cell_type": "markdown",
   "metadata": {},
   "source": [
    "You should now define a new regularised model.\n",
    "The specs for the regularised model are the same as our original model, with the addition of two dropout layers, weight decay, and a batch normalisation layer. \n",
    "\n",
    "In particular:\n",
    "\n",
    "* Add a dropout layer after the 3rd Dense layer\n",
    "* Then there should be two more Dense layers with 128 units before a batch normalisation layer\n",
    "* Following this, two more Dense layers with 64 units and then another Dropout layer\n",
    "* Two more Dense layers with 64 units and then the final 3-way softmax layer\n",
    "* Add weight decay (l2 kernel regularisation) in all Dense layers except the final softmax layer"
   ]
  },
  {
   "cell_type": "code",
   "execution_count": 66,
   "metadata": {},
   "outputs": [],
   "source": [
    "#### GRADED CELL ####\n",
    "\n",
    "# Complete the following function. \n",
    "# Make sure to not change the function name or arguments.\n",
    "\n",
    "def get_regularised_model(input_shape, dropout_rate, weight_decay):\n",
    "    \"\"\"\n",
    "    This function should build a regularised Sequential model according to the above specification. \n",
    "    The dropout_rate argument in the function should be used to set the Dropout rate for all Dropout layers.\n",
    "    L2 kernel regularisation (weight decay) should be added using the weight_decay argument to \n",
    "    set the weight decay coefficient in all Dense layers that use L2 regularisation.\n",
    "    Ensure the weights are initialised by providing the input_shape argument in the first layer, given by the\n",
    "    function argument input_shape.\n",
    "    Your function should return the model.\n",
    "    \"\"\"\n",
    "    \n",
    "    model = keras.Sequential([\n",
    "        # First Dense layer\n",
    "        Dense(64, kernel_regularizer=regularizers.l2(weight_decay), activation='relu', input_shape=input_shape),\n",
    "\n",
    "        # Four Dense layers with 128 units and ReLU activation\n",
    "        Dense(128, kernel_regularizer=regularizers.l2(weight_decay), activation='relu'),\n",
    "        Dense(128, kernel_regularizer=regularizers.l2(weight_decay), activation='relu'),\n",
    "        tf.keras.layers.Dropout(dropout_rate),\n",
    "        Dense(128,kernel_regularizer=regularizers.l2(weight_decay), activation='relu'),\n",
    "        Dense(128, kernel_regularizer=regularizers.l2(weight_decay), activation='relu'),\n",
    "\n",
    "        # Four Dense layers with 64 units and ReLU activation\n",
    "        Dense(64, kernel_regularizer=regularizers.l2(weight_decay), activation='relu'),\n",
    "        Dense(64, kernel_regularizer=regularizers.l2(weight_decay), activation='relu'),\n",
    "        tf.keras.layers.Dropout(dropout_rate),\n",
    "\n",
    "        Dense(64, kernel_regularizer=regularizers.l2(weight_decay), activation='relu'),\n",
    "        Dense(64, kernel_regularizer=regularizers.l2(weight_decay), activation='relu'),\n",
    "\n",
    "        # Output Dense layer with 3 units and softmax activation\n",
    "        Dense(3, activation='softmax')\n",
    "    ])\n",
    "    return model\n",
    "    \n",
    "    "
   ]
  },
  {
   "cell_type": "markdown",
   "metadata": {},
   "source": [
    "#### Instantiate, compile and train the model"
   ]
  },
  {
   "cell_type": "code",
   "execution_count": 67,
   "metadata": {},
   "outputs": [],
   "source": [
    "# Instantiate the model, using a dropout rate of 0.3 and weight decay coefficient of 0.001\n",
    "\n",
    "reg_model = get_regularised_model(train_data[0].shape, 0.3, 0.001)"
   ]
  },
  {
   "cell_type": "code",
   "execution_count": 68,
   "metadata": {},
   "outputs": [],
   "source": [
    "# Compile the model\n",
    "\n",
    "compile_model(reg_model)"
   ]
  },
  {
   "cell_type": "code",
   "execution_count": 69,
   "metadata": {},
   "outputs": [],
   "source": [
    "# Train the model\n",
    "\n",
    "reg_history = train_model(reg_model, train_data, train_targets, epochs=800)"
   ]
  },
  {
   "cell_type": "markdown",
   "metadata": {},
   "source": [
    "#### Plot the learning curves\n",
    "\n",
    "Let's now plot the loss and accuracy for the training and validation sets."
   ]
  },
  {
   "cell_type": "code",
   "execution_count": 70,
   "metadata": {},
   "outputs": [
    {
     "data": {
      "image/png": "[encoded data removed]",
      "text/plain": [
       "<Figure size 432x288 with 1 Axes>"
      ]
     },
     "metadata": {
      "needs_background": "light"
     },
     "output_type": "display_data"
    }
   ],
   "source": [
    "#Run this cell to plot the new accuracy vs epoch graph\n",
    "\n",
    "try:\n",
    "    plt.plot(reg_history.history['accuracy'])\n",
    "    plt.plot(reg_history.history['val_accuracy'])\n",
    "except KeyError:\n",
    "    plt.plot(reg_history.history['acc'])\n",
    "    plt.plot(reg_history.history['val_acc'])\n",
    "plt.title('Accuracy vs. epochs')\n",
    "plt.ylabel('Loss')\n",
    "plt.xlabel('Epoch')\n",
    "plt.legend(['Training', 'Validation'], loc='lower right')\n",
    "plt.show() "
   ]
  },
  {
   "cell_type": "code",
   "execution_count": 52,
   "metadata": {},
   "outputs": [
    {
     "data": {
      "image/png": "[encoded data removed]",
      "text/plain": [
       "<Figure size 432x288 with 1 Axes>"
      ]
     },
     "metadata": {
      "needs_background": "light"
     },
     "output_type": "display_data"
    }
   ],
   "source": [
    "#Run this cell to plot the new loss vs epoch graph\n",
    "\n",
    "plt.plot(reg_history.history['loss'])\n",
    "plt.plot(reg_history.history['val_loss'])\n",
    "plt.title('Loss vs. epochs')\n",
    "plt.ylabel('Loss')\n",
    "plt.xlabel('Epoch')\n",
    "plt.legend(['Training', 'Validation'], loc='upper right')\n",
    "plt.show() "
   ]
  },
  {
   "cell_type": "markdown",
   "metadata": {},
   "source": [
    "We can see that the regularisation has helped to reduce the overfitting of the network.\n",
    "You will now incorporate callbacks into a new training run that implements early stopping and learning rate reduction on plateaux.\n",
    "\n",
    "Fill in the function below so that:\n",
    "\n",
    "* It creates an `EarlyStopping` callback object and a `ReduceLROnPlateau` callback object\n",
    "* The early stopping callback is used and monitors validation loss with the mode set to `\"min\"` and patience of 30.\n",
    "* The learning rate reduction on plateaux is used with a learning rate factor of 0.2 and a patience of 20."
   ]
  },
  {
   "cell_type": "code",
   "execution_count": 30,
   "metadata": {},
   "outputs": [],
   "source": [
    "#### GRADED CELL ####\n",
    "\n",
    "# Complete the following function. \n",
    "# Make sure to not change the function name or arguments.\n",
    "\n",
    "def get_callbacks():\n",
    "    \"\"\"\n",
    "    This function should create and return a tuple (early_stopping, learning_rate_reduction) callbacks.\n",
    "    The callbacks should be instantiated according to the above requirements.\n",
    "    \"\"\"\n",
    "    early_stopping = tf.keras.callbacks.EarlyStopping(\n",
    "      monitor='val_loss',\n",
    "      patience=30,\n",
    "      restore_best_weights=True,\n",
    "      verbose=1)\n",
    "\n",
    "    learning_rate_reduction = tf.keras.callbacks.ReduceLROnPlateau(\n",
    "      monitor='val_loss',\n",
    "      patience=20,\n",
    "      factor=0.2,\n",
    "      min_lr=0.00001,\n",
    "      verbose=1)\n",
    "\n",
    "    return early_stopping, learning_rate_reduction\n",
    "    \n",
    "    "
   ]
  },
  {
   "cell_type": "markdown",
   "metadata": {},
   "source": [
    "Run the cell below to instantiate and train the regularised model with the callbacks."
   ]
  },
  {
   "cell_type": "code",
   "execution_count": 31,
   "metadata": {},
   "outputs": [
    {
     "name": "stdout",
     "output_type": "stream",
     "text": [
      "\n",
      "Epoch 00073: ReduceLROnPlateau reducing learning rate to 1.9999999494757503e-05.\n",
      "\n",
      "Epoch 00091: ReduceLROnPlateau reducing learning rate to 1e-05.\n",
      "Restoring model weights from the end of the best epoch.\n",
      "Epoch 00142: early stopping\n"
     ]
    }
   ],
   "source": [
    "call_model = get_regularised_model(train_data[0].shape, 0.3, 0.0001)\n",
    "compile_model(call_model)\n",
    "early_stopping, learning_rate_reduction = get_callbacks()\n",
    "call_history = call_model.fit(train_data, train_targets, epochs=800, validation_split=0.15,\n",
    "                         callbacks=[early_stopping, learning_rate_reduction], verbose=0)"
   ]
  },
  {
   "cell_type": "code",
   "execution_count": 32,
   "metadata": {},
   "outputs": [
    {
     "data": {
      "text/plain": [
       "5"
      ]
     },
     "execution_count": 32,
     "metadata": {},
     "output_type": "execute_result"
    }
   ],
   "source": [
    "learning_rate_reduction.patience"
   ]
  },
  {
   "cell_type": "markdown",
   "metadata": {},
   "source": [
    "Finally, let's replot the accuracy and loss graphs for our new model."
   ]
  },
  {
   "cell_type": "code",
   "execution_count": 33,
   "metadata": {},
   "outputs": [
    {
     "data": {
      "image/png": "[encoded data removed]",
      "text/plain": [
       "<Figure size 432x288 with 1 Axes>"
      ]
     },
     "metadata": {
      "needs_background": "light"
     },
     "output_type": "display_data"
    }
   ],
   "source": [
    "try:\n",
    "    plt.plot(call_history.history['accuracy'])\n",
    "    plt.plot(call_history.history['val_accuracy'])\n",
    "except KeyError:\n",
    "    plt.plot(call_history.history['acc'])\n",
    "    plt.plot(call_history.history['val_acc'])\n",
    "plt.title('Accuracy vs. epochs')\n",
    "plt.ylabel('Accuracy')\n",
    "plt.xlabel('Epoch')\n",
    "plt.legend(['Training', 'Validation'], loc='lower right')\n",
    "plt.show() "
   ]
  },
  {
   "cell_type": "code",
   "execution_count": null,
   "metadata": {},
   "outputs": [],
   "source": [
    "plt.plot(call_history.history['loss'])\n",
    "plt.plot(call_history.history['val_loss'])\n",
    "plt.title('Loss vs. epochs')\n",
    "plt.ylabel('Loss')\n",
    "plt.xlabel('Epoch')\n",
    "plt.legend(['Training', 'Validation'], loc='upper right')\n",
    "plt.show() "
   ]
  },
  {
   "cell_type": "code",
   "execution_count": 34,
   "metadata": {},
   "outputs": [
    {
     "name": "stdout",
     "output_type": "stream",
     "text": [
      "Test loss: 0.113\n",
      "Test accuracy: 100.00%\n"
     ]
    }
   ],
   "source": [
    "# Evaluate the model on the test set\n",
    "\n",
    "test_loss, test_acc = call_model.evaluate(test_data, test_targets, verbose=0)\n",
    "print(\"Test loss: {:.3f}\\nTest accuracy: {:.2f}%\".format(test_loss, 100 * test_acc))"
   ]
  },
  {
   "cell_type": "markdown",
   "metadata": {},
   "source": [
    "Congratulations for completing this programming assignment! In the next week of the course we will learn how to save and load pre-trained models."
   ]
  }
 ],
 "metadata": {
  "coursera": {
   "course_slug": "tensor-flow-2-1",
   "graded_item_id": "mtZ4n",
   "launcher_item_id": "WphgK"
  },
  "kernelspec": {
   "display_name": "Python 3",
   "language": "python",
   "name": "python3"
  },
  "language_info": {
   "codemirror_mode": {
    "name": "ipython",
    "version": 3
   },
   "file_extension": ".py",
   "mimetype": "text/x-python",
   "name": "python",
   "nbconvert_exporter": "python",
   "pygments_lexer": "ipython3",
   "version": "3.7.1"
  }
 },
 "nbformat": 4,
 "nbformat_minor": 2
}
